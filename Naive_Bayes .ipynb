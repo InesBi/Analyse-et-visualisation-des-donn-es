{
  "nbformat": 4,
  "nbformat_minor": 0,
  "metadata": {
    "colab": {
      "provenance": []
    },
    "kernelspec": {
      "name": "python3",
      "display_name": "Python 3"
    },
    "language_info": {
      "name": "python"
    }
  },
  "cells": [
    {
      "cell_type": "code",
      "execution_count": 72,
      "metadata": {
        "id": "E3R-aRQibhnu"
      },
      "outputs": [],
      "source": [
        "# Import des bibliothèques nécessaires\n",
        "import pandas as pd\n",
        "from sklearn.model_selection import train_test_split, cross_val_score\n",
        "from sklearn.naive_bayes import GaussianNB, MultinomialNB\n",
        "from sklearn.metrics import classification_report\n",
        "from sklearn.preprocessing import LabelEncoder"
      ]
    },
    {
      "cell_type": "markdown",
      "source": [
        "# Chargement des données\n",
        "\n",
        "Les données BreatTissue sont téléchargeable à partir du lien :  https://archive.ics.uci.edu/ml/machine-learning-databases/00192/BreastTissue.xls\n",
        "\n",
        "Les données se trouve dans le classeur 'Data'"
      ],
      "metadata": {
        "id": "KGMkLISAisPp"
      }
    },
    {
      "cell_type": "code",
      "source": [
        "# Chargement des données\n",
        "url = \"https://archive.ics.uci.edu/ml/machine-learning-databases/00192/BreastTissue.xls\"\n",
        "breast_tissue_data = pd.read_excel(url, sheet_name='Data')\n",
        "print(breast_tissue_data)\n"
      ],
      "metadata": {
        "colab": {
          "base_uri": "https://localhost:8080/"
        },
        "id": "0e8l_bWUbp8p",
        "outputId": "91c6ce81-c255-480d-c3fb-9c0648f32636"
      },
      "execution_count": 73,
      "outputs": [
        {
          "output_type": "stream",
          "name": "stdout",
          "text": [
            "     Case # Class           I0     PA500       HFS           DA  \\\n",
            "0         1   car   524.794072  0.187448  0.032114   228.800228   \n",
            "1         2   car   330.000000  0.226893  0.265290   121.154201   \n",
            "2         3   car   551.879287  0.232478  0.063530   264.804935   \n",
            "3         4   car   380.000000  0.240855  0.286234   137.640111   \n",
            "4         5   car   362.831266  0.200713  0.244346   124.912559   \n",
            "..      ...   ...          ...       ...       ...          ...   \n",
            "101     102   adi  2000.000000  0.106989  0.105418   520.222649   \n",
            "102     103   adi  2600.000000  0.200538  0.208043  1063.441427   \n",
            "103     104   adi  1600.000000  0.071908 -0.066323   436.943603   \n",
            "104     105   adi  2300.000000  0.045029  0.136834   185.446044   \n",
            "105     106   adi  2600.000000  0.069988  0.048869   745.474369   \n",
            "\n",
            "              Area        A/DA      Max IP          DR            P  \n",
            "0      6843.598481   29.910803   60.204880  220.737212   556.828334  \n",
            "1      3163.239472   26.109202   69.717361   99.084964   400.225776  \n",
            "2     11888.391827   44.894903   77.793297  253.785300   656.769449  \n",
            "3      5402.171180   39.248524   88.758446  105.198568   493.701814  \n",
            "4      3290.462446   26.342127   69.389389  103.866552   424.796503  \n",
            "..             ...         ...         ...         ...          ...  \n",
            "101   40087.920984   77.059161  204.090347  478.517223  2088.648870  \n",
            "102  174480.476218  164.071543  418.687286  977.552367  2664.583623  \n",
            "103   12655.342135   28.963331  103.732704  432.129749  1475.371534  \n",
            "104    5086.292497   27.427344  178.691742   49.593290  2480.592151  \n",
            "105   39845.773698   53.450226  154.122604  729.368395  2545.419744  \n",
            "\n",
            "[106 rows x 11 columns]\n"
          ]
        }
      ]
    },
    {
      "cell_type": "markdown",
      "source": [
        "# Exploration des données"
      ],
      "metadata": {
        "id": "ULJ5GMKmk_hc"
      }
    },
    {
      "cell_type": "code",
      "source": [
        "# Examiner les premières lignes du jeu de données pour comprendre sa structure.\n",
        "print(\"Aperçu des premières lignes du jeu de données :\\n\", breast_tissue_data.head())\n",
        "\n",
        "# Vérifier les statistiques descriptives pour chaque attribut.\n",
        "print(\"\\nStatistiques descriptives pour chaque attribut :\\n\", breast_tissue_data.describe())\n",
        "\n",
        "# Visualiser la distribution des attributs à l'aide d'histogrammes ou de diagrammes en boîte.\n",
        "import matplotlib.pyplot as plt\n",
        "breast_tissue_data.hist(figsize=(10, 8))\n",
        "plt.show()\n",
        "\n",
        "# Identifier s'il y a des valeurs manquantes ou des valeurs aberrantes.\n",
        "print(\"\\nValeurs manquantes :\\n\", breast_tissue_data.isnull().sum())"
      ],
      "metadata": {
        "id": "c6zjb3RTk6j5"
      },
      "execution_count": null,
      "outputs": []
    },
    {
      "cell_type": "markdown",
      "source": [
        "# Données brutes"
      ],
      "metadata": {
        "id": "TxhqvEh6kU_L"
      }
    },
    {
      "cell_type": "code",
      "source": [
        "\n",
        "# Séparation des caractéristiques (X) et des étiquettes de classe (y)\n",
        "X = breast_tissue_data.drop(columns=['Case #', 'Class'])\n",
        "y = breast_tissue_data['Class']\n",
        "print(y.unique())"
      ],
      "metadata": {
        "colab": {
          "base_uri": "https://localhost:8080/"
        },
        "id": "D_xQqx3RkkRN",
        "outputId": "e068f1b1-e9bc-4773-9e5d-881509402e75"
      },
      "execution_count": 75,
      "outputs": [
        {
          "output_type": "stream",
          "name": "stdout",
          "text": [
            "['car' 'fad' 'mas' 'gla' 'con' 'adi']\n"
          ]
        }
      ]
    },
    {
      "cell_type": "code",
      "source": [
        "# Division des données en ensembles d'entraînement et de test\n",
        "X_train, X_test, y_train, y_test = train_test_split(X, y, test_size=0.2, random_state=42)\n",
        "\n",
        "# Création du classificateur Naive Bayes gaussien\n",
        "gnb = GaussianNB()\n",
        "\n",
        "# Entraînement du classificateur sur l'ensemble d'entraînement\n",
        "gnb.fit(X_train, y_train)\n",
        "\n",
        "# Prédiction sur l'ensemble de test\n",
        "y_pred = gnb.predict(X_test)\n",
        "\n",
        "# Affichage du rapport de classification\n",
        "print(\"Rapport de classification :\\n\", classification_report(y_test, y_pred))\n",
        "\n",
        "# Validation croisée avec la validation k-fold\n",
        "cv_scores = cross_val_score(gnb, X, y, cv=5)\n",
        "print(\"Scores de validation croisée :\", cv_scores)\n",
        "print(\"Moyenne des scores de validation croisée :\", cv_scores.mean())"
      ],
      "metadata": {
        "id": "m8Ksg2-jkxR1"
      },
      "execution_count": null,
      "outputs": []
    },
    {
      "cell_type": "markdown",
      "source": [
        "# Données de classes fusionnées"
      ],
      "metadata": {
        "id": "kNvmQewykMIL"
      }
    },
    {
      "cell_type": "code",
      "source": [
        "# Fusion des classes fad, mas et gla en une seule classe\n",
        "breast_tissue_data['Class'] = breast_tissue_data['Class'].replace({'fad': 'tissue', 'mas': 'tissue', 'gla': 'tissue'})\n",
        "\n",
        "# Séparation des caractéristiques (X) et des étiquettes de classe (y)\n",
        "X = breast_tissue_data.drop(columns=['Case #','Class'])\n",
        "y = breast_tissue_data['Class']\n",
        "\n",
        "print(X.head())\n",
        "print(y.unique())\n"
      ],
      "metadata": {
        "id": "Wpf9h-MUcN32"
      },
      "execution_count": null,
      "outputs": []
    },
    {
      "cell_type": "markdown",
      "source": [
        "***Naive bayesian gaussien***"
      ],
      "metadata": {
        "id": "w2aMuEA1l7n5"
      }
    },
    {
      "cell_type": "code",
      "source": [
        "# Division des données en ensembles d'entraînement et de test\n",
        "X_train, X_test, y_train, y_test = train_test_split(X, y, test_size=0.2, random_state=42)\n",
        "\n",
        "# Création du classificateur Naive Bayes gaussien\n",
        "gnb = GaussianNB()\n",
        "\n",
        "# Entraînement du classificateur sur l'ensemble d'entraînement\n",
        "gnb.fit(X_train, y_train)\n",
        "\n",
        "# Prédiction sur l'ensemble de test\n",
        "y_pred = gnb.predict(X_test)\n",
        "\n",
        "# Affichage du rapport de classification\n",
        "print(\"Rapport de classification :\\n\", classification_report(y_test, y_pred))\n",
        "\n",
        "# Validation croisée avec la validation k-fold\n",
        "cv_scores = cross_val_score(gnb, X, y, cv=5)\n",
        "print(\"Scores de validation croisée :\", cv_scores)\n",
        "print(\"Moyenne des scores de validation croisée :\", cv_scores.mean())"
      ],
      "metadata": {
        "id": "k2D4ZOIcbt6P"
      },
      "execution_count": null,
      "outputs": []
    },
    {
      "cell_type": "markdown",
      "source": [
        "***Naive bayesian nominal***"
      ],
      "metadata": {
        "id": "tAVv2J_WmAKZ"
      }
    },
    {
      "cell_type": "code",
      "source": [
        "\n",
        "# Transformation des attributs numériques en attributs catégoriels avec des seuils\n",
        "X_cat = X.apply(lambda x: pd.cut(x, bins=3, labels=['low', 'medium', 'high']))\n",
        "\n",
        "# Encodage des étiquettes catégoriques en valeurs numériques\n",
        "label_encoder = LabelEncoder()\n",
        "\n",
        "# Appliquer l'encodage des étiquettes aux données catégoriques\n",
        "X_cat_encoded = X_cat.apply(label_encoder.fit_transform)\n",
        "\n",
        "# Division des données transformées en ensembles d'entraînement et de test\n",
        "X_train_cat, X_test_cat = train_test_split(X_cat_encoded, test_size=0.2, random_state=42)\n",
        "\n",
        "print(X_cat_encoded)\n",
        "# Essai avec un classificateur Naive Bayes multinomial\n",
        "mnb = MultinomialNB()\n",
        "mnb.fit(X_train_cat, y_train)\n",
        "\n",
        "y_pred_mnb = mnb.predict(X_test_cat)\n",
        "\n",
        "# Affichage du rapport de classification pour le classificateur multinomial\n",
        "print(\"\\nRapport de classification (Naive Bayes multinomial) :\\n\", classification_report(y_test, y_pred_mnb))\n",
        "\n",
        "# Validation croisée avec la validation k-fold\n",
        "cv_scores = cross_val_score(gnb, X, y, cv=5)\n",
        "print(\"Scores de validation croisée :\", cv_scores)\n",
        "print(\"Moyenne des scores de validation croisée :\", cv_scores.mean())"
      ],
      "metadata": {
        "id": "-OOuEgicddN8"
      },
      "execution_count": null,
      "outputs": []
    }
  ]
}